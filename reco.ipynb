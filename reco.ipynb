{
 "cells": [
  {
   "cell_type": "code",
   "execution_count": 1,
   "id": "92fef8d4",
   "metadata": {},
   "outputs": [
    {
     "name": "stdout",
     "output_type": "stream",
     "text": [
      "✅ Accuracy: 0.4565\n",
      "✅ F1 Score: 0.41070426002031263\n",
      "✅ Classification Report:\n",
      "               precision    recall  f1-score   support\n",
      "\n",
      "           0       0.49      0.72      0.58       984\n",
      "           1       0.29      0.06      0.09       320\n",
      "           2       0.38      0.26      0.31       696\n",
      "\n",
      "    accuracy                           0.46      2000\n",
      "   macro avg       0.38      0.35      0.33      2000\n",
      "weighted avg       0.42      0.46      0.41      2000\n",
      "\n"
     ]
    }
   ],
   "source": [
    "import pandas as pd\n",
    "import numpy as np\n",
    "import joblib\n",
    "from sklearn.model_selection import train_test_split\n",
    "from sklearn.preprocessing import LabelEncoder\n",
    "from sklearn.ensemble import RandomForestClassifier\n",
    "from sklearn.metrics import accuracy_score, f1_score, classification_report\n",
    "import os\n",
    "\n",
    "# Create 'model' directory if it doesn't exist\n",
    "os.makedirs(\"model\", exist_ok=True)\n",
    "\n",
    "# Load dataset\n",
    "df = pd.read_csv(\"workout_fitness_tracker_data.csv\")\n",
    "\n",
    "# Select relevant columns\n",
    "df = df[[  \n",
    "    'Age', 'Gender', 'Height (cm)', 'Weight (kg)', \n",
    "    'Workout Duration (mins)', 'Workout Intensity', 'Workout Type'\n",
    "]]\n",
    "\n",
    "# Add synthetic feature\n",
    "np.random.seed(42)\n",
    "df['Workout Days'] = np.random.choice([2, 3, 4, 5, 6], size=len(df))\n",
    "\n",
    "# Add BMI and Duration Per Day\n",
    "df['Height (m)'] = df['Height (cm)'] / 100\n",
    "df['BMI'] = df['Weight (kg)'] / (df['Height (m)'] ** 2)\n",
    "df['Duration Per Day'] = df['Workout Duration (mins)'] / df['Workout Days']\n",
    "\n",
    "# Drop unneeded columns\n",
    "df.drop(columns=['Height (cm)', 'Weight (kg)', 'Height (m)', 'Workout Duration (mins)'], inplace=True)\n",
    "\n",
    "# Map workout type to categories\n",
    "df['Workout Type'] = LabelEncoder().fit_transform(df['Workout Type'])\n",
    "workout_type_decoder = {0: 'Cardio', 1: 'Cycling', 2: 'HIIT', 3: 'Running', 4: 'Strength', 5: 'Yoga'}\n",
    "df['Workout Type'] = df['Workout Type'].map(workout_type_decoder)\n",
    "\n",
    "merge_map = {\n",
    "    'HIIT': 'High Effort',\n",
    "    'Strength': 'High Effort',\n",
    "    'Cardio': 'Endurance',\n",
    "    'Running': 'Endurance',\n",
    "    'Cycling': 'Endurance',\n",
    "    'Yoga': 'Flexibility'\n",
    "}\n",
    "df['Workout Category'] = df['Workout Type'].map(merge_map)\n",
    "\n",
    "# Encode categorical columns\n",
    "label_encoders = {}\n",
    "for col in ['Gender', 'Workout Intensity', 'Workout Category']:\n",
    "    le = LabelEncoder()\n",
    "    df[col] = le.fit_transform(df[col])\n",
    "    label_encoders[col] = le\n",
    "\n",
    "# Prepare features and target\n",
    "X = df.drop(columns=['Workout Type', 'Workout Category'])\n",
    "y = df['Workout Category']\n",
    "\n",
    "# Train the model\n",
    "X_train, X_test, y_train, y_test = train_test_split(X, y, test_size=0.2, random_state=42)\n",
    "rf_model = RandomForestClassifier(random_state=42)\n",
    "rf_model.fit(X_train, y_train)\n",
    "\n",
    "# Evaluate the model (optional)\n",
    "y_pred = rf_model.predict(X_test)\n",
    "print(\"✅ Accuracy:\", accuracy_score(y_test, y_pred))\n",
    "print(\"✅ F1 Score:\", f1_score(y_test, y_pred, average='weighted'))\n",
    "print(\"✅ Classification Report:\\n\", classification_report(y_test, y_pred))\n",
    "\n",
    "# # Save model and encoders\n",
    "# joblib.dump(rf_model, \"model/recommendation_model.joblib\")\n",
    "# joblib.dump(label_encoders, \"model/label_encoders.joblib\")\n",
    "# print(\"✅ Model and encoders saved to /model folder.\")"
   ]
  },
  {
   "cell_type": "code",
   "execution_count": 2,
   "id": "f06fd612",
   "metadata": {},
   "outputs": [
    {
     "name": "stdout",
     "output_type": "stream",
     "text": [
      "Feature names used for training: ['Age', 'Gender', 'Workout Intensity', 'Workout Days', 'BMI', 'Duration Per Day']\n"
     ]
    }
   ],
   "source": [
    "print(\"Feature names used for training:\", X.columns.tolist())"
   ]
  },
  {
   "cell_type": "code",
   "execution_count": null,
   "id": "4a0cc86f",
   "metadata": {},
   "outputs": [],
   "source": []
  }
 ],
 "metadata": {
  "kernelspec": {
   "display_name": "base",
   "language": "python",
   "name": "python3"
  },
  "language_info": {
   "codemirror_mode": {
    "name": "ipython",
    "version": 3
   },
   "file_extension": ".py",
   "mimetype": "text/x-python",
   "name": "python",
   "nbconvert_exporter": "python",
   "pygments_lexer": "ipython3",
   "version": "3.11.5"
  }
 },
 "nbformat": 4,
 "nbformat_minor": 5
}
